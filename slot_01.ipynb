{
 "cells": [
  {
   "cell_type": "code",
   "execution_count": 3,
   "metadata": {},
   "outputs": [],
   "source": [
    "import pandas as pd\n",
    " # - Nhập thư viện `pandas`, một thư viện mạnh mẽ trong Python dành cho xử lý và phân tích dữ liệu. `pd` là bí danh phổ biến để gọi `pandas`."
   ]
  },
  {
   "cell_type": "code",
   "execution_count": 4,
   "metadata": {},
   "outputs": [],
   "source": [
    "df = pd.read_csv('dulieuxettuyendaihoc.csv', header=0, delimiter=',', encoding='utf-8')\n",
    "\n",
    "\n",
    "  #- Sử dụng hàm `read_csv` của pandas để đọc tệp CSV tên `'dulieuxettuyendaihoc.csv'` và tải nó vào một DataFrame gọi là `df`.\n",
    "  #- `header=0`: Dòng đầu tiên (chỉ số 0) của tệp CSV được sử dụng làm tên cột.\n",
    "  #- `delimiter=','`: Dùng dấu phẩy làm ký tự phân cách giữa các cột.\n",
    "  #- `encoding='utf-8'`: Sử dụng mã hóa UTF-8 để đọc tệp, đảm bảo hỗ trợ các ký tự đặc biệt."
   ]
  },
  {
   "cell_type": "code",
   "execution_count": 7,
   "metadata": {},
   "outputs": [
    {
     "data": {
      "text/html": [
       "<div>\n",
       "<style scoped>\n",
       "    .dataframe tbody tr th:only-of-type {\n",
       "        vertical-align: middle;\n",
       "    }\n",
       "\n",
       "    .dataframe tbody tr th {\n",
       "        vertical-align: top;\n",
       "    }\n",
       "\n",
       "    .dataframe thead th {\n",
       "        text-align: right;\n",
       "    }\n",
       "</style>\n",
       "<table border=\"1\" class=\"dataframe\">\n",
       "  <thead>\n",
       "    <tr style=\"text-align: right;\">\n",
       "      <th></th>\n",
       "      <th>MSSV</th>\n",
       "      <th>GT</th>\n",
       "      <th>DT</th>\n",
       "      <th>KV</th>\n",
       "      <th>M1</th>\n",
       "      <th>M2</th>\n",
       "      <th>M3</th>\n",
       "      <th>KT</th>\n",
       "      <th>NGAYTHI</th>\n",
       "      <th>DINHHUONGNGHENGHIEP</th>\n",
       "    </tr>\n",
       "  </thead>\n",
       "  <tbody>\n",
       "    <tr>\n",
       "      <th>0</th>\n",
       "      <td>SV001</td>\n",
       "      <td>F</td>\n",
       "      <td>NaN</td>\n",
       "      <td>2NT</td>\n",
       "      <td>3.25</td>\n",
       "      <td>3.25</td>\n",
       "      <td>4.50</td>\n",
       "      <td>A1</td>\n",
       "      <td>12/7/2018</td>\n",
       "      <td>No</td>\n",
       "    </tr>\n",
       "    <tr>\n",
       "      <th>1</th>\n",
       "      <td>SV002</td>\n",
       "      <td>M</td>\n",
       "      <td>NaN</td>\n",
       "      <td>1</td>\n",
       "      <td>6.00</td>\n",
       "      <td>4.00</td>\n",
       "      <td>3.50</td>\n",
       "      <td>C</td>\n",
       "      <td>12/7/2018</td>\n",
       "      <td>Yes</td>\n",
       "    </tr>\n",
       "    <tr>\n",
       "      <th>2</th>\n",
       "      <td>SV003</td>\n",
       "      <td>M</td>\n",
       "      <td>NaN</td>\n",
       "      <td>1</td>\n",
       "      <td>5.00</td>\n",
       "      <td>6.75</td>\n",
       "      <td>4.00</td>\n",
       "      <td>C</td>\n",
       "      <td>12/7/2018</td>\n",
       "      <td>No</td>\n",
       "    </tr>\n",
       "    <tr>\n",
       "      <th>3</th>\n",
       "      <td>SV004</td>\n",
       "      <td>M</td>\n",
       "      <td>NaN</td>\n",
       "      <td>1</td>\n",
       "      <td>4.25</td>\n",
       "      <td>4.25</td>\n",
       "      <td>5.25</td>\n",
       "      <td>D1</td>\n",
       "      <td>12/7/2018</td>\n",
       "      <td>No</td>\n",
       "    </tr>\n",
       "    <tr>\n",
       "      <th>4</th>\n",
       "      <td>SV005</td>\n",
       "      <td>M</td>\n",
       "      <td>NaN</td>\n",
       "      <td>2NT</td>\n",
       "      <td>4.25</td>\n",
       "      <td>4.50</td>\n",
       "      <td>5.00</td>\n",
       "      <td>A</td>\n",
       "      <td>12/7/2018</td>\n",
       "      <td>No</td>\n",
       "    </tr>\n",
       "    <tr>\n",
       "      <th>...</th>\n",
       "      <td>...</td>\n",
       "      <td>...</td>\n",
       "      <td>...</td>\n",
       "      <td>...</td>\n",
       "      <td>...</td>\n",
       "      <td>...</td>\n",
       "      <td>...</td>\n",
       "      <td>...</td>\n",
       "      <td>...</td>\n",
       "      <td>...</td>\n",
       "    </tr>\n",
       "    <tr>\n",
       "      <th>95</th>\n",
       "      <td>SV0096</td>\n",
       "      <td>F</td>\n",
       "      <td>NaN</td>\n",
       "      <td>1</td>\n",
       "      <td>5.25</td>\n",
       "      <td>1.50</td>\n",
       "      <td>6.25</td>\n",
       "      <td>C</td>\n",
       "      <td>7/20/2022</td>\n",
       "      <td>Yes</td>\n",
       "    </tr>\n",
       "    <tr>\n",
       "      <th>96</th>\n",
       "      <td>SV0097</td>\n",
       "      <td>F</td>\n",
       "      <td>NaN</td>\n",
       "      <td>1</td>\n",
       "      <td>5.25</td>\n",
       "      <td>3.75</td>\n",
       "      <td>4.75</td>\n",
       "      <td>C</td>\n",
       "      <td>7/20/2022</td>\n",
       "      <td>No</td>\n",
       "    </tr>\n",
       "    <tr>\n",
       "      <th>97</th>\n",
       "      <td>SV0098</td>\n",
       "      <td>M</td>\n",
       "      <td>NaN</td>\n",
       "      <td>2NT</td>\n",
       "      <td>7.00</td>\n",
       "      <td>8.00</td>\n",
       "      <td>4.00</td>\n",
       "      <td>C</td>\n",
       "      <td>7/20/2022</td>\n",
       "      <td>Yes</td>\n",
       "    </tr>\n",
       "    <tr>\n",
       "      <th>98</th>\n",
       "      <td>SV0099</td>\n",
       "      <td>M</td>\n",
       "      <td>NaN</td>\n",
       "      <td>1</td>\n",
       "      <td>5.00</td>\n",
       "      <td>3.50</td>\n",
       "      <td>5.50</td>\n",
       "      <td>C</td>\n",
       "      <td>7/20/2022</td>\n",
       "      <td>No</td>\n",
       "    </tr>\n",
       "    <tr>\n",
       "      <th>99</th>\n",
       "      <td>SV00100</td>\n",
       "      <td>M</td>\n",
       "      <td>NaN</td>\n",
       "      <td>2NT</td>\n",
       "      <td>5.25</td>\n",
       "      <td>2.50</td>\n",
       "      <td>4.25</td>\n",
       "      <td>C</td>\n",
       "      <td>7/20/2022</td>\n",
       "      <td>Yes</td>\n",
       "    </tr>\n",
       "  </tbody>\n",
       "</table>\n",
       "<p>100 rows × 10 columns</p>\n",
       "</div>"
      ],
      "text/plain": [
       "       MSSV GT  DT   KV    M1    M2    M3  KT    NGAYTHI DINHHUONGNGHENGHIEP\n",
       "0     SV001  F NaN  2NT  3.25  3.25  4.50  A1  12/7/2018                  No\n",
       "1     SV002  M NaN    1  6.00  4.00  3.50   C  12/7/2018                 Yes\n",
       "2     SV003  M NaN    1  5.00  6.75  4.00   C  12/7/2018                  No\n",
       "3     SV004  M NaN    1  4.25  4.25  5.25  D1  12/7/2018                  No\n",
       "4     SV005  M NaN  2NT  4.25  4.50  5.00   A  12/7/2018                  No\n",
       "..      ... ..  ..  ...   ...   ...   ...  ..        ...                 ...\n",
       "95   SV0096  F NaN    1  5.25  1.50  6.25   C  7/20/2022                 Yes\n",
       "96   SV0097  F NaN    1  5.25  3.75  4.75   C  7/20/2022                  No\n",
       "97   SV0098  M NaN  2NT  7.00  8.00  4.00   C  7/20/2022                 Yes\n",
       "98   SV0099  M NaN    1  5.00  3.50  5.50   C  7/20/2022                  No\n",
       "99  SV00100  M NaN  2NT  5.25  2.50  4.25   C  7/20/2022                 Yes\n",
       "\n",
       "[100 rows x 10 columns]"
      ]
     },
     "execution_count": 7,
     "metadata": {},
     "output_type": "execute_result"
    }
   ],
   "source": [
    "df\n",
    " # - Hiển thị toàn bộ nội dung của DataFrame `df` trong môi trường tương tác như Jupyter Notebook.\n"
   ]
  },
  {
   "cell_type": "code",
   "execution_count": 9,
   "metadata": {},
   "outputs": [
    {
     "data": {
      "text/html": [
       "<div>\n",
       "<style scoped>\n",
       "    .dataframe tbody tr th:only-of-type {\n",
       "        vertical-align: middle;\n",
       "    }\n",
       "\n",
       "    .dataframe tbody tr th {\n",
       "        vertical-align: top;\n",
       "    }\n",
       "\n",
       "    .dataframe thead th {\n",
       "        text-align: right;\n",
       "    }\n",
       "</style>\n",
       "<table border=\"1\" class=\"dataframe\">\n",
       "  <thead>\n",
       "    <tr style=\"text-align: right;\">\n",
       "      <th></th>\n",
       "      <th>MSSV</th>\n",
       "      <th>GT</th>\n",
       "      <th>DT</th>\n",
       "      <th>KV</th>\n",
       "      <th>M1</th>\n",
       "      <th>M2</th>\n",
       "      <th>M3</th>\n",
       "      <th>KT</th>\n",
       "      <th>NGAYTHI</th>\n",
       "      <th>DINHHUONGNGHENGHIEP</th>\n",
       "    </tr>\n",
       "  </thead>\n",
       "  <tbody>\n",
       "    <tr>\n",
       "      <th>0</th>\n",
       "      <td>SV001</td>\n",
       "      <td>F</td>\n",
       "      <td>NaN</td>\n",
       "      <td>2NT</td>\n",
       "      <td>3.25</td>\n",
       "      <td>3.25</td>\n",
       "      <td>4.50</td>\n",
       "      <td>A1</td>\n",
       "      <td>12/7/2018</td>\n",
       "      <td>No</td>\n",
       "    </tr>\n",
       "    <tr>\n",
       "      <th>1</th>\n",
       "      <td>SV002</td>\n",
       "      <td>M</td>\n",
       "      <td>NaN</td>\n",
       "      <td>1</td>\n",
       "      <td>6.00</td>\n",
       "      <td>4.00</td>\n",
       "      <td>3.50</td>\n",
       "      <td>C</td>\n",
       "      <td>12/7/2018</td>\n",
       "      <td>Yes</td>\n",
       "    </tr>\n",
       "    <tr>\n",
       "      <th>2</th>\n",
       "      <td>SV003</td>\n",
       "      <td>M</td>\n",
       "      <td>NaN</td>\n",
       "      <td>1</td>\n",
       "      <td>5.00</td>\n",
       "      <td>6.75</td>\n",
       "      <td>4.00</td>\n",
       "      <td>C</td>\n",
       "      <td>12/7/2018</td>\n",
       "      <td>No</td>\n",
       "    </tr>\n",
       "    <tr>\n",
       "      <th>3</th>\n",
       "      <td>SV004</td>\n",
       "      <td>M</td>\n",
       "      <td>NaN</td>\n",
       "      <td>1</td>\n",
       "      <td>4.25</td>\n",
       "      <td>4.25</td>\n",
       "      <td>5.25</td>\n",
       "      <td>D1</td>\n",
       "      <td>12/7/2018</td>\n",
       "      <td>No</td>\n",
       "    </tr>\n",
       "    <tr>\n",
       "      <th>4</th>\n",
       "      <td>SV005</td>\n",
       "      <td>M</td>\n",
       "      <td>NaN</td>\n",
       "      <td>2NT</td>\n",
       "      <td>4.25</td>\n",
       "      <td>4.50</td>\n",
       "      <td>5.00</td>\n",
       "      <td>A</td>\n",
       "      <td>12/7/2018</td>\n",
       "      <td>No</td>\n",
       "    </tr>\n",
       "    <tr>\n",
       "      <th>5</th>\n",
       "      <td>SV006</td>\n",
       "      <td>M</td>\n",
       "      <td>NaN</td>\n",
       "      <td>1</td>\n",
       "      <td>1.50</td>\n",
       "      <td>4.00</td>\n",
       "      <td>6.00</td>\n",
       "      <td>D1</td>\n",
       "      <td>12/7/2018</td>\n",
       "      <td>No</td>\n",
       "    </tr>\n",
       "    <tr>\n",
       "      <th>6</th>\n",
       "      <td>SV007</td>\n",
       "      <td>F</td>\n",
       "      <td>NaN</td>\n",
       "      <td>2</td>\n",
       "      <td>6.50</td>\n",
       "      <td>6.75</td>\n",
       "      <td>5.25</td>\n",
       "      <td>C</td>\n",
       "      <td>12/7/2018</td>\n",
       "      <td>Yes</td>\n",
       "    </tr>\n",
       "    <tr>\n",
       "      <th>7</th>\n",
       "      <td>SV008</td>\n",
       "      <td>F</td>\n",
       "      <td>NaN</td>\n",
       "      <td>2</td>\n",
       "      <td>3.75</td>\n",
       "      <td>4.50</td>\n",
       "      <td>4.25</td>\n",
       "      <td>D1</td>\n",
       "      <td>12/7/2018</td>\n",
       "      <td>Yes</td>\n",
       "    </tr>\n",
       "    <tr>\n",
       "      <th>8</th>\n",
       "      <td>SV009</td>\n",
       "      <td>F</td>\n",
       "      <td>NaN</td>\n",
       "      <td>1</td>\n",
       "      <td>3.50</td>\n",
       "      <td>3.50</td>\n",
       "      <td>6.75</td>\n",
       "      <td>D1</td>\n",
       "      <td>12/7/2018</td>\n",
       "      <td>Yes</td>\n",
       "    </tr>\n",
       "    <tr>\n",
       "      <th>9</th>\n",
       "      <td>SV0010</td>\n",
       "      <td>F</td>\n",
       "      <td>NaN</td>\n",
       "      <td>1</td>\n",
       "      <td>4.00</td>\n",
       "      <td>4.75</td>\n",
       "      <td>5.50</td>\n",
       "      <td>D1</td>\n",
       "      <td>12/7/2018</td>\n",
       "      <td>Yes</td>\n",
       "    </tr>\n",
       "  </tbody>\n",
       "</table>\n",
       "</div>"
      ],
      "text/plain": [
       "     MSSV GT  DT   KV    M1    M2    M3  KT    NGAYTHI DINHHUONGNGHENGHIEP\n",
       "0   SV001  F NaN  2NT  3.25  3.25  4.50  A1  12/7/2018                  No\n",
       "1   SV002  M NaN    1  6.00  4.00  3.50   C  12/7/2018                 Yes\n",
       "2   SV003  M NaN    1  5.00  6.75  4.00   C  12/7/2018                  No\n",
       "3   SV004  M NaN    1  4.25  4.25  5.25  D1  12/7/2018                  No\n",
       "4   SV005  M NaN  2NT  4.25  4.50  5.00   A  12/7/2018                  No\n",
       "5   SV006  M NaN    1  1.50  4.00  6.00  D1  12/7/2018                  No\n",
       "6   SV007  F NaN    2  6.50  6.75  5.25   C  12/7/2018                 Yes\n",
       "7   SV008  F NaN    2  3.75  4.50  4.25  D1  12/7/2018                 Yes\n",
       "8   SV009  F NaN    1  3.50  3.50  6.75  D1  12/7/2018                 Yes\n",
       "9  SV0010  F NaN    1  4.00  4.75  5.50  D1  12/7/2018                 Yes"
      ]
     },
     "execution_count": 9,
     "metadata": {},
     "output_type": "execute_result"
    }
   ],
   "source": [
    "df.head(10)\n",
    " #- Hiển thị 10 dòng đầu tiên của DataFrame `df`. Thường dùng để kiểm tra nhanh cấu trúc và nội dung của dữ liệu."
   ]
  },
  {
   "cell_type": "code",
   "execution_count": null,
   "metadata": {},
   "outputs": [],
   "source": [
    "df.tail(10)\n",
    "  #- Hiển thị 10 dòng cuối cùng của DataFrame `df`. Giúp kiểm tra dữ liệu ở phần cuối của tệp."
   ]
  },
  {
   "cell_type": "code",
   "execution_count": null,
   "metadata": {},
   "outputs": [],
   "source": [
    "df.columns\n",
    "#- Liệt kê tên tất cả các cột trong DataFrame `df`. Giúp bạn biết được các thuộc tính hiện có trong dữ liệu."
   ]
  },
  {
   "cell_type": "code",
   "execution_count": null,
   "metadata": {},
   "outputs": [],
   "source": [
    "df.rename(columns={'NGAYTHI':'NT','DINHHUONGNGHENGHIEP':'NGHE'}, inplace=True)\n",
    "#- Đổi tên các cột trong DataFrame:\n",
    "#- `NGAYTHI` được đổi thành `NT`.\n",
    "#- `DINHHUONGNGHENGHIEP` được đổi thành `NGHE`.\n",
    "#- `inplace=True` đảm bảo rằng thay đổi được áp dụng trực tiếp lên DataFrame `df` mà không cần gán lại.\n"
   ]
  },
  {
   "cell_type": "code",
   "execution_count": null,
   "metadata": {},
   "outputs": [],
   "source": [
    "df.columns\n",
    "  #- Kiểm tra lại tên các cột sau khi đã đổi tên để xác nhận các thay đổi."
   ]
  },
  {
   "cell_type": "code",
   "execution_count": null,
   "metadata": {},
   "outputs": [],
   "source": [
    "df.dtypes\n",
    "  #- Hiển thị kiểu dữ liệu của từng cột trong DataFrame `df` (ví dụ: int64, float64, object)."
   ]
  },
  {
   "cell_type": "code",
   "execution_count": null,
   "metadata": {},
   "outputs": [],
   "source": [
    "df.shape\n",
    "#- Trả về kích thước của DataFrame dưới dạng một tuple `(số dòng, số cột)`. Giúp bạn biết được kích thước tổng quát của dữ liệu."
   ]
  },
  {
   "cell_type": "code",
   "execution_count": null,
   "metadata": {},
   "outputs": [],
   "source": [
    "df.index\n",
    "  #- Hiển thị thông tin về chỉ mục (index) của DataFrame `df`. Thường là các số từ 0 đến n-1 nếu không được tùy chỉnh."
   ]
  },
  {
   "cell_type": "code",
   "execution_count": null,
   "metadata": {},
   "outputs": [],
   "source": [
    "df.info()\n",
    "#- Cung cấp thông tin chi tiết về DataFrame, bao gồm:\n",
    "#- Số lượng dòng và cột.\n",
    "#- Tên cột và kiểu dữ liệu.\n",
    "#- Số giá trị không null trong mỗi cột.\n",
    "#- Dung lượng bộ nhớ sử dụng bởi DataFrame."
   ]
  },
  {
   "cell_type": "code",
   "execution_count": null,
   "metadata": {},
   "outputs": [],
   "source": [
    "df['M1']\n",
    "  #- Truy cập và trả về Series chứa dữ liệu của cột `M1` trong DataFrame `df`."
   ]
  },
  {
   "cell_type": "code",
   "execution_count": null,
   "metadata": {},
   "outputs": [],
   "source": [
    "df[['M1']]\n",
    "#- Trả về một DataFrame chứa chỉ cột `M1`. Sự khác biệt so với `df['M1']` là kết quả là DataFrame thay vì Series."
   ]
  },
  {
   "cell_type": "code",
   "execution_count": null,
   "metadata": {},
   "outputs": [],
   "source": [
    "newdf = df[['M1','M2','KV','KT']]\n",
    "  #- Tạo một DataFrame mới tên là `newdf` chỉ chứa các cột `M1`, `M2`, `KV`, và `KT` từ DataFrame `df`."
   ]
  },
  {
   "cell_type": "code",
   "execution_count": null,
   "metadata": {},
   "outputs": [],
   "source": [
    "newdf\n",
    "  #- Hiển thị toàn bộ nội dung của DataFrame `newdf`."
   ]
  },
  {
   "cell_type": "code",
   "execution_count": null,
   "metadata": {},
   "outputs": [],
   "source": [
    "df[2:97]\n",
    "  #- Lấy các dòng từ chỉ số 2 đến 96 (tổng cộng 95 dòng) từ DataFrame `df`. Đây là cách sử dụng slicing để chọn một phần dữ liệu dựa trên vị trí hàng."
   ]
  },
  {
   "cell_type": "code",
   "execution_count": null,
   "metadata": {},
   "outputs": [],
   "source": [
    "df.loc[92]\n",
    "  #- Sử dụng `.loc` để truy cập dòng có chỉ số nhãn (label) là 92. Nếu index là mặc định từ 0, đây sẽ là dòng thứ 93."
   ]
  },
  {
   "cell_type": "code",
   "execution_count": null,
   "metadata": {},
   "outputs": [],
   "source": [
    "df.loc[4:10]\n",
    "  #- Lấy các dòng từ chỉ số 4 đến 10 (bao gồm cả 10) từ DataFrame `df` sử dụng `.loc`."
   ]
  },
  {
   "cell_type": "code",
   "execution_count": null,
   "metadata": {},
   "outputs": [],
   "source": [
    "df.loc[5:9,['M1','KT']]\n",
    "#- Chọn các dòng từ chỉ số 5 đến 9 và chỉ các cột `M1` và `KT`. Kết quả là một DataFrame con chứa dữ liệu được lọc theo điều kiện này.\n"
   ]
  },
  {
   "cell_type": "code",
   "execution_count": null,
   "metadata": {},
   "outputs": [],
   "source": [
    "df.iloc[5]\n",
    "#- Sử dụng `.iloc` để truy cập dòng tại vị trí 5 (dòng thứ 6) trong DataFrame `df`."
   ]
  },
  {
   "cell_type": "code",
   "execution_count": null,
   "metadata": {},
   "outputs": [],
   "source": [
    "df.iloc[6:9]\n",
    "  #- Chọn các dòng từ vị trí 6 đến 8 (tổng cộng 3 dòng) trong DataFrame `df` sử dụng `.iloc`."
   ]
  },
  {
   "cell_type": "code",
   "execution_count": null,
   "metadata": {},
   "outputs": [],
   "source": [
    " df.iloc[:5]\n",
    "  #- Lấy 5 dòng đầu tiên (từ vị trí 0 đến 4) trong DataFrame `df` sử dụng `.iloc`."
   ]
  },
  {
   "cell_type": "code",
   "execution_count": null,
   "metadata": {},
   "outputs": [],
   "source": [
    "df.iloc[95:]\n",
    " #- Lấy tất cả các dòng từ vị trí 95 đến cuối DataFrame `df` sử dụng `.iloc`."
   ]
  },
  {
   "cell_type": "code",
   "execution_count": null,
   "metadata": {},
   "outputs": [],
   "source": [
    "df.sort_values(by='M1', ascending=True)\n",
    "  # Sắp xếp DataFrame `df` theo cột `M1` theo thứ tự tăng dần (`ascending=True`)."
   ]
  },
  {
   "cell_type": "code",
   "execution_count": null,
   "metadata": {},
   "outputs": [],
   "source": [
    "df.sort_values(by=['M1','M2'], ascending=[True,False])\n",
    "#  Sắp xếp DataFrame `df` theo hai cột:\n",
    "#  Đầu tiên là cột `M1` theo thứ tự tăng dần.\n",
    "#  Sau đó là cột `M2` theo thứ tự giảm dần (`False`)."
   ]
  },
  {
   "cell_type": "code",
   "execution_count": null,
   "metadata": {},
   "outputs": [],
   "source": [
    "df[df['M1'] >= 5]\n",
    " #- Lọc và trả về các dòng trong DataFrame `df` mà giá trị ở cột `M1` lớn hơn hoặc bằng 5."
   ]
  },
  {
   "cell_type": "code",
   "execution_count": null,
   "metadata": {},
   "outputs": [],
   "source": [
    "df[(df['M1'] > 6) & (df['M2'] > 5)]\n",
    "#- Lọc và trả về các dòng trong DataFrame `df` mà giá trị ở cột `M1` lớn hơn 6 **và** giá trị ở cột `M2` lớn hơn 5.\n",
    "#- Dấu `&` được sử dụng để kết hợp hai điều kiện."
   ]
  },
  {
   "cell_type": "code",
   "execution_count": null,
   "metadata": {},
   "outputs": [],
   "source": [
    "df.loc[df['KT'] == 'C']\n",
    "# - Lọc và trả về các dòng trong DataFrame `df` mà giá trị ở cột `KT` bằng `'C'` sử dụng `.loc`."
   ]
  },
  {
   "cell_type": "code",
   "execution_count": null,
   "metadata": {},
   "outputs": [],
   "source": [
    "df.aggregate({'M1':['min','max'],'M2':['mean','sum']})\n",
    "#   - Sử dụng hàm `aggregate` để tính toán các thống kê tổng hợp cho các cột:\n",
    "#     - Cột `M1`: giá trị nhỏ nhất (`min`) và lớn nhất (`max`).\n",
    "#     - Cột `M2`: trung bình (`mean`) và tổng (`sum`).\n"
   ]
  },
  {
   "cell_type": "code",
   "execution_count": null,
   "metadata": {},
   "outputs": [],
   "source": [
    "df.groupby(['KV'])['KV'].agg(['count'])\n",
    "#   - Nhóm dữ liệu theo cột `KV` và đếm số lượng mục trong mỗi nhóm.\n",
    "#   - Kết quả là một DataFrame với các giá trị đếm cho mỗi giá trị của `KV`."
   ]
  },
  {
   "cell_type": "code",
   "execution_count": null,
   "metadata": {},
   "outputs": [],
   "source": [
    "df.groupby(['KV'])['M1'].agg(['count','min','mean','std','max','sum'])\n",
    "#   - Nhóm dữ liệu theo cột `KV` và tính các thống kê cho cột `M1` trong mỗi nhóm:\n",
    "#     - `count`: Số lượng mục.\n",
    "#     - `min`: Giá trị nhỏ nhất.\n",
    "#     - `mean`: Trung bình.\n",
    "#     - `std`: Độ lệch chuẩn.\n",
    "#     - `max`: Giá trị lớn nhất.\n",
    "#     - `sum`: Tổng giá trị."
   ]
  },
  {
   "cell_type": "code",
   "execution_count": null,
   "metadata": {},
   "outputs": [],
   "source": [
    "df.groupby(['KV'])[['M1','M2']].agg(['min','mean'])\n",
    "#   - Nhóm dữ liệu theo cột `KV` và tính toán các thống kê cho cả hai cột `M1` và `M2` trong mỗi nhóm:\n",
    "#     - `min`: Giá trị nhỏ nhất.\n",
    "#     - `mean`: Trung bình."
   ]
  },
  {
   "cell_type": "code",
   "execution_count": null,
   "metadata": {},
   "outputs": [],
   "source": [
    "df.groupby(['KV','KT'])[['M1','M2']].agg(['min','max'])\n",
    "#   - Nhóm dữ liệu theo cả hai cột `KV` và `KT`, sau đó tính toán các thống kê cho cột `M1` và `M2` trong mỗi nhóm:\n",
    "#     - `min`: Giá trị nhỏ nhất.\n",
    "#     - `max`: Giá trị lớn nhất."
   ]
  },
  {
   "cell_type": "code",
   "execution_count": null,
   "metadata": {},
   "outputs": [],
   "source": [
    "df_gr = df.groupby(['KV'], as_index=False).count()\n",
    "#   - Nhóm dữ liệu theo cột `KV` và đếm số lượng mục trong mỗi nhóm.\n",
    "#   - `as_index=False`: Giữ `KV` là một cột bình thường thay vì làm chỉ mục.\n",
    "#   - Kết quả được lưu vào DataFrame mới `df_gr`."
   ]
  },
  {
   "cell_type": "code",
   "execution_count": null,
   "metadata": {},
   "outputs": [],
   "source": [
    "df_gr\n",
    "  #- Hiển thị nội dung của DataFrame `df_gr`, kết quả của phép nhóm và đếm trước đó."
   ]
  },
  {
   "cell_type": "code",
   "execution_count": null,
   "metadata": {},
   "outputs": [],
   "source": [
    "pd.pivot_table(df, values=['M1','M2'], columns='KV', aggfunc=['min','mean','max'])\n",
    "#   - Tạo bảng xoay (pivot table) từ DataFrame `df`:\n",
    "#     - `values=['M1','M2']`: Các cột cần tính toán.\n",
    "#     - `columns='KV'`: Các giá trị của cột `KV` sẽ trở thành các cột trong bảng xoay.\n",
    "#     - `aggfunc=['min','mean','max']`: Các hàm thống kê áp dụng cho các giá trị.\n",
    "#   - Kết quả là bảng xoay hiển thị `min`, `mean`, `max` cho `M1` và `M2` theo từng giá trị của `KV`."
   ]
  },
  {
   "cell_type": "code",
   "execution_count": null,
   "metadata": {},
   "outputs": [],
   "source": [
    "pd.pivot_table(newdf, values=['M1','M2'], columns=['KV','KT'], aggfunc=['min','mean','max'])\n",
    "#   - Tạo bảng xoay từ DataFrame `newdf`:\n",
    "#     - `values=['M1','M2']`: Các cột cần tính toán.\n",
    "#     - `columns=['KV','KT']`: Kết hợp hai cột `KV` và `KT` để tạo thành các cột trong bảng xoay.\n",
    "#     - `aggfunc=['min','mean','max']`: Các hàm thống kê áp dụng cho các giá trị.\n",
    "#   - Kết quả là bảng xoay hiển thị `min`, `mean`, `max` cho `M1` và `M2` theo từng tổ hợp của `KV` và `KT`."
   ]
  }
 ],
 "metadata": {
  "kernelspec": {
   "display_name": "Python 3",
   "language": "python",
   "name": "python3"
  },
  "language_info": {
   "codemirror_mode": {
    "name": "ipython",
    "version": 3
   },
   "file_extension": ".py",
   "mimetype": "text/x-python",
   "name": "python",
   "nbconvert_exporter": "python",
   "pygments_lexer": "ipython3",
   "version": "3.12.7"
  }
 },
 "nbformat": 4,
 "nbformat_minor": 2
}

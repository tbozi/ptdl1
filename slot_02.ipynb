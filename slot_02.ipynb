{
 "cells": [
  {
   "cell_type": "code",
   "execution_count": null,
   "metadata": {},
   "outputs": [],
   "source": [
    "import pandas as pd \n",
    "import seaborn as sns\n",
    "import matplotlib.pyplot as plt\n",
    "import numpy as np\n",
    "#   - **pandas** (`pd`): Thư viện mạnh mẽ dành cho xử lý và phân tích dữ liệu, đặc biệt là cấu trúc dữ liệu dạng bảng (DataFrame).\n",
    "#   - **seaborn** (`sns`): Thư viện trực quan hóa dữ liệu dựa trên matplotlib, cung cấp các giao diện dễ sử dụng để tạo các biểu đồ thống kê hấp dẫn.\n",
    "#   - **matplotlib.pyplot** (`plt`): Thư viện cơ bản để tạo các biểu đồ và hình ảnh trong Python.\n",
    "#   - **numpy** (`np`): Thư viện hỗ trợ tính toán khoa học, đặc biệt cho các mảng đa chiều và các phép toán số học."
   ]
  },
  {
   "cell_type": "code",
   "execution_count": null,
   "metadata": {},
   "outputs": [],
   "source": [
    "df = pd.read_csv('dulieuxettuyendaihoc.csv',header=0, delimiter=',',encoding='utf-8')\n",
    "#   - **pd.read_csv**: Hàm đọc tệp CSV và tải dữ liệu vào một DataFrame.\n",
    "#   - **'dulieuxettuyendaihoc.csv'**: Tên tệp CSV chứa dữ liệu tuyển sinh đại học.\n",
    "#   - **header=0**: Dòng đầu tiên của tệp CSV (dòng 0) được sử dụng làm tên cột.\n",
    "#   - **delimiter=','**: Dùng dấu phẩy làm ký tự phân cách giữa các cột.\n",
    "#   - **encoding='utf-8'**: Sử dụng mã hóa UTF-8 để đọc tệp, đảm bảo hỗ trợ các ký tự đặc biệt."
   ]
  },
  {
   "cell_type": "code",
   "execution_count": null,
   "metadata": {},
   "outputs": [],
   "source": [
    " df = df[['GT','DT','KV','KT','M1','M2','M3','NGAYTHI','DINHHUONGNGHENGHIEP']]\n",
    "#- **df[['GT','DT','KV','KT','M1','M2','M3','NGAYTHI','DINHHUONGNGHENGHIEP']]**: Chọn lọc các cột cần thiết từ DataFrame ban đầu để tạo DataFrame mới `df`. Các cột được chọn là:\n",
    "#- **GT**: Giới tính.\n",
    "#     - **DT**: Dân tộc.\n",
    "#     - **KV**: Khu vực.\n",
    "#     - **KT**: Khối thi.\n",
    "#     - **M1, M2, M3**: Điểm các môn thi.\n",
    "#     - **NGAYTHI**: Ngày thi.\n",
    "#     - **DINHHUONGNGHENGHIEP**: Dinh hướng nghề nghiệp."
   ]
  },
  {
   "cell_type": "code",
   "execution_count": null,
   "metadata": {},
   "outputs": [],
   "source": [
    "df.info()\n",
    "#   - Hiển thị thông tin tổng quan về DataFrame `df`, bao gồm số lượng dòng, cột, kiểu dữ liệu của từng cột, và số lượng giá trị không null trong mỗi cột.\n"
   ]
  },
  {
   "cell_type": "code",
   "execution_count": null,
   "metadata": {},
   "outputs": [],
   "source": [
    "df.rename(columns={'NGAYTHI':'NT', 'DINHHUONGNGHENGHIEP':'NGHE'}, inplace=True)\n",
    "#   - **df.rename**: Đổi tên các cột trong DataFrame.\n",
    "#   - **columns={'NGAYTHI':'NT', 'DINHHUONGNGHENGHIEP':'NGHE'}**: \n",
    "#     - Đổi tên cột `NGAYTHI` thành `NT`.\n",
    "#     - Đổi tên cột `DINHHUONGNGHENGHIEP` thành `NGHE`.\n",
    "#   - **inplace=True**: Thực hiện thay đổi trực tiếp trên DataFrame `df` mà không cần gán lại."
   ]
  },
  {
   "cell_type": "code",
   "execution_count": null,
   "metadata": {},
   "outputs": [],
   "source": [
    "df.dropna(how='all', inplace=True)\n",
    "#   - **df.dropna**: Loại bỏ các dòng có giá trị thiếu (NaN).\n",
    "#   - **how='all'**: Chỉ loại bỏ các dòng mà tất cả các giá trị đều thiếu.\n",
    "#   - **inplace=True**: Thực hiện thay đổi trực tiếp trên DataFrame `df`."
   ]
  },
  {
   "cell_type": "code",
   "execution_count": null,
   "metadata": {},
   "outputs": [],
   "source": [
    "df.drop_duplicates(inplace=True)\n",
    "#   - **df.drop_duplicates**: Loại bỏ các dòng trùng lặp trong DataFrame.\n",
    "#   - **inplace=True**: Thực hiện thay đổi trực tiếp trên DataFrame `df`."
   ]
  },
  {
   "cell_type": "code",
   "execution_count": null,
   "metadata": {},
   "outputs": [],
   "source": [
    "plt.figure(figsize=(10,6))\n",
    "sns.heatmap(df.isna().transpose(), cmap='YlGnBu',cbar_kws={'label':'Dữ liệu thiếu'})\n",
    "plt.savefig('missingdata.png', dpi=100)\n",
    "plt.show()\n",
    "#   - **plt.figure(figsize=(10,6))**: Tạo một hình ảnh mới với kích thước 10x6 inch.\n",
    "#   - **df.isna()**: Tạo một DataFrame boolean, trong đó các giá trị là `True` nếu dữ liệu bị thiếu và `False` nếu không.\n",
    "#   - **.transpose()**: Hoán vị DataFrame để các cột trở thành hàng, giúp dễ dàng trực quan hóa.\n",
    "#   - **sns.heatmap(...)**: Tạo biểu đồ heatmap để hiển thị các giá trị thiếu.\n",
    "#     - **cmap='YlGnBu'**: Sử dụng bảng màu \"Yellow-Green-Blue\".\n",
    "#     - **cbar_kws={'label':'Dữ liệu thiếu'}**: Thêm nhãn cho thanh màu.\n",
    "#   - **plt.savefig('missingdata.png', dpi=100)**: Lưu biểu đồ heatmap vào tệp `missingdata.png` với độ phân giải 100 DPI.\n",
    "#   - **plt.show()**: Hiển thị biểu đồ heatmap."
   ]
  },
  {
   "cell_type": "code",
   "execution_count": null,
   "metadata": {},
   "outputs": [],
   "source": [
    "df['DT'].fillna('KINH', inplace=True)\n",
    "df['M1'].fillna(df['M1'].mean(), inplace=True)\n",
    "df['M2'].fillna(df['M2'].median(), inplace=True)\n",
    "df['M3'].fillna(0, inplace=True)\n",
    "#   - **df['DT'].fillna('KINH', inplace=True)**:\n",
    "#     - Điền giá trị thiếu trong cột `DT` (Dân tộc) bằng `'KINH'`.\n",
    "#     - **inplace=True**: Thực hiện thay đổi trực tiếp trên DataFrame `df`.\n",
    "#   - **df['M1'].fillna(df['M1'].mean(), inplace=True)**:\n",
    "#     - Điền giá trị thiếu trong cột `M1` bằng giá trị trung bình của cột `M1`.\n",
    "#   - **df['M2'].fillna(df['M2'].median(), inplace=True)**:\n",
    "#     - Điền giá trị thiếu trong cột `M2` bằng giá trị trung vị (median) của cột `M2`.\n",
    "#   - **df['M3'].fillna(0, inplace=True)**:\n",
    "#     - Điền giá trị thiếu trong cột `M3` bằng `0`.\n"
   ]
  },
  {
   "cell_type": "code",
   "execution_count": null,
   "metadata": {},
   "outputs": [],
   "source": [
    "df['TBM'] = (df['M1'] + df['M2'] + df['M3']) / 3\n",
    "#   - **df['TBM']**: Tạo một cột mới tên là `TBM` (Trung Bình Môn).\n",
    "#   - **(df['M1'] + df['M2'] + df['M3']) / 3**: Tính trung bình cộng của các cột `M1`, `M2`, và `M3` cho mỗi dòng."
   ]
  },
  {
   "cell_type": "code",
   "execution_count": null,
   "metadata": {},
   "outputs": [],
   "source": [
    "\n",
    "df.loc[df['TBM'] < 5.0, 'XL'] = 'FAIL'\n",
    "\n",
    "df.loc[(df['TBM'] >= 5.0) & \n",
    "       (df['TBM'] < 7.0), 'XL'] = 'FAIR'\n",
    "\n",
    "df.loc[(df['TBM'] >= 7.0) & \n",
    "       (df['TBM'] < 9.0), 'XL'] = 'GOOD'\n",
    "\n",
    "df.loc[df['TBM'] >= 9.0, 'XL'] = 'EXCEL'\n",
    "#   - **df.loc[<condition>, 'XL'] = <value>**: Gán giá trị cho cột `XL` dựa trên điều kiện được chỉ định.\n",
    "#   - **Điều kiện xếp loại**:\n",
    "#     - **TBM < 5.0**: Gán `'FAIL'` (Rớt).\n",
    "#     - **5.0 ≤ TBM < 7.0**: Gán `'FAIR'` (Trung Bình).\n",
    "#     - **7.0 ≤ TBM < 9.0**: Gán `'GOOD'` (Tốt).\n",
    "#     - **TBM ≥ 9.0**: Gán `'EXCEL'` (Xuất Sắc)."
   ]
  },
  {
   "cell_type": "code",
   "execution_count": null,
   "metadata": {},
   "outputs": [],
   "source": [
    "dict_map = {'A1':'G1', 'C':'G3', 'D1': 'G3', 'A': 'G1', 'B': 'G2'}\n",
    "df['NHOM'] = df['KT'].map(dict_map)\n",
    "#   - **dict_map**: Tạo một từ điển ánh xạ các giá trị trong cột `KT` (Khối thi) thành các nhóm mới.\n",
    "#     - `'A1'` → `'G1'`\n",
    "#     - `'C'` → `'G3'`\n",
    "#     - `'D1'` → `'G3'`\n",
    "#     - `'A'` → `'G1'`\n",
    "#     - `'B'` → `'G2'`\n",
    "#   - **df['NHOM'] = df['KT'].map(dict_map)**:\n",
    "#     - Áp dụng ánh xạ từ `dict_map` cho cột `KT` và lưu kết quả vào cột mới `NHOM`."
   ]
  },
  {
   "cell_type": "code",
   "execution_count": null,
   "metadata": {},
   "outputs": [],
   "source": [
    "# Tạo Cột PLUS Sử Dụng Hàm Tùy Chỉnh**\n",
    "\n",
    "def fplus(x, y):\n",
    "    if (x == 'G1' or x == 'G2') and (y >= 4.0):\n",
    "        return 1.0\n",
    "    else:\n",
    "        return 0.0\n",
    "\n",
    "df['PLUS'] = list(map(fplus, df['NHOM'], df['TBM']))\n",
    "#   - **Định nghĩa hàm `fplus`**:\n",
    "#     - Nhận hai tham số `x` và `y`.\n",
    "#     - Nếu `x` là `'G1'` hoặc `'G2'` **và** `y` (TBM) lớn hơn hoặc bằng `4.0`, trả về `1.0`.\n",
    "#     - Ngược lại, trả về `0.0`.\n",
    "#   - **df['PLUS'] = list(map(fplus, df['NHOM'], df['TBM']))**:\n",
    "#     - Sử dụng hàm `map` để áp dụng hàm `fplus` cho từng cặp giá trị tương ứng từ cột `NHOM` và `TBM`.\n",
    "#     - Kết quả là một danh sách các giá trị `1.0` hoặc `0.0` được gán vào cột mới `PLUS`."
   ]
  },
  {
   "cell_type": "code",
   "execution_count": null,
   "metadata": {},
   "outputs": [],
   "source": [
    "# 4. Trực Quan Hóa Dữ Liệu (Data Visualization)**\n",
    "### **4.1 Biểu Đồ Đếm (Countplot) - Giới Tính (GT)**\n",
    "\n",
    "sns.countplot(x='GT', data=df)\n",
    "plt.show()\n",
    "#   - **sns.countplot(x='GT', data=df)**: Tạo biểu đồ đếm (count plot) cho cột `GT` (Giới tính), hiển thị số lượng mỗi loại giới tính trong dữ liệu.\n",
    "#   - **plt.show()**: Hiển thị biểu đồ."
   ]
  },
  {
   "cell_type": "code",
   "execution_count": null,
   "metadata": {},
   "outputs": [],
   "source": [
    "# Biểu Đồ Đếm (Countplot) - Khối Thi (KT) và Giới Tính (GT)**\n",
    "\n",
    "sns.countplot(x='KT', hue='GT', data=df)\n",
    "plt.show()\n",
    "#   - **sns.countplot(x='KT', hue='GT', data=df)**: Tạo biểu đồ đếm cho cột `KT` (Khối thi), phân chia theo cột `GT` (Giới tính). Mỗi khối thi sẽ được chia thành các phần màu khác nhau tương ứng với giới tính.\n",
    "#   - **plt.show()**: Hiển thị biểu đồ.\n"
   ]
  },
  {
   "cell_type": "code",
   "execution_count": null,
   "metadata": {},
   "outputs": [],
   "source": [
    "sns.barplot(x='GT', y='M1', data=df, errorbar=None)\n",
    "plt.show()\n",
    "#   - **sns.barplot(x='GT', y='M1', data=df, errorbar=None)**: Tạo biểu đồ cột hiển thị trung bình điểm `M1` cho mỗi giới tính `GT`. Tham số `errorbar=None` loại bỏ thanh sai số.\n",
    "#   - **plt.show()**: Hiển thị biểu đồ."
   ]
  },
  {
   "cell_type": "code",
   "execution_count": null,
   "metadata": {},
   "outputs": [],
   "source": [
    "# Biểu Đồ Cột (Barplot) - Giới Tính (GT), Điểm M1 và Khối Thi (KT)**\n",
    "sns.barplot(x='GT', y='M1', hue='KT', data=df, errorbar=None)\n",
    "plt.show()\n",
    "#   - **sns.barplot(x='GT', y='M1', hue='KT', data=df, errorbar=None)**: Tạo biểu đồ cột hiển thị trung bình điểm `M1` cho mỗi giới tính `GT`, phân chia theo khối thi `KT`. Mỗi cột `GT` sẽ có các phần màu tương ứng với các khối thi khác nhau.\n",
    "#   - **plt.show()**: Hiển thị biểu đồ."
   ]
  },
  {
   "cell_type": "code",
   "execution_count": null,
   "metadata": {},
   "outputs": [],
   "source": [
    "# Biểu Đồ Cột (Barplot) - Giới Tính (GT), Điểm M1 và Khối Thi (KT) với Estimator là max**\n",
    "\n",
    "sns.barplot(x='GT', y='M1', hue='KT', data=df, errorbar=None, estimator=max)\n",
    "plt.show()\n",
    "#   - **sns.barplot(..., estimator=max)**: Tạo biểu đồ cột hiển thị giá trị lớn nhất (`max`) của điểm `M1` cho mỗi giới tính `GT`, phân chia theo khối thi `KT`. Tham số `estimator=max` thay vì mặc định là `mean`.\n",
    "#   - **plt.show()**: Hiển thị biểu đồ."
   ]
  },
  {
   "cell_type": "code",
   "execution_count": null,
   "metadata": {},
   "outputs": [],
   "source": [
    "# Biểu Đồ Cột (Barplot) - Khu Vực (KV), Điểm M1 và Khối Thi (KT) với Estimator là max**\n",
    "\n",
    "sns.barplot(x='KV', y='M1', hue='KT', data=df, errorbar=None, estimator=np.max)\n",
    "plt.show()\n",
    "#   - **sns.barplot(x='KV', y='M1', hue='KT', data=df, errorbar=None, estimator=np.max)**:\n",
    "#     - Tạo biểu đồ cột hiển thị giá trị lớn nhất (`np.max`) của điểm `M1` cho mỗi khu vực `KV`, phân chia theo khối thi `KT`.\n",
    "#     - Sử dụng hàm `np.max` từ thư viện `numpy` để tính giá trị lớn nhất.\n",
    "#   - **plt.show()**: Hiển thị biểu đồ."
   ]
  },
  {
   "cell_type": "code",
   "execution_count": null,
   "metadata": {},
   "outputs": [],
   "source": [
    "gb = df.groupby(['KT'])['KT'].agg(['count'])\n",
    "labels = gb.index # labels = ['A','A1','B','C','D1']\n",
    "data = list(gb['count']) # data= [49,6,9,14,22]\n",
    "colors = sns.color_palette('pastel') # Tạo bảng màu\n",
    "plt.pie(data, labels=labels, colors=colors, autopct='%1.1f%%', shadow=True)\n",
    "plt.show()\n",
    "#   - **gb = df.groupby(['KT'])['KT'].agg(['count'])**:\n",
    "#     - Nhóm dữ liệu theo cột `KT` (Khối thi) và đếm số lượng mỗi khối thi.\n",
    "#     - Kết quả lưu vào DataFrame `gb` với các cột `KT` và `count`.\n",
    "#   - **labels = gb.index**:\n",
    "#     - Lấy các nhãn từ chỉ mục của DataFrame `gb`, ví dụ: `['A','A1','B','C','D1']`.\n",
    "#   - **data = list(gb['count'])**:\n",
    "#     - Lấy danh sách số lượng tương ứng cho mỗi nhãn, ví dụ: `[49,6,9,14,22]`.\n",
    "#   - **colors = sns.color_palette('pastel')**:\n",
    "#     - Tạo bảng màu pastel từ seaborn để sử dụng trong biểu đồ tròn.\n",
    "#   - **plt.pie(...)**:\n",
    "#     - Tạo biểu đồ tròn với dữ liệu `data`, nhãn `labels`, bảng màu `colors`.\n",
    "#     - **autopct='%1.1f%%'**: Hiển thị tỷ lệ phần trăm với một chữ số thập phân.\n",
    "#     - **shadow=True**: Thêm bóng đổ cho biểu đồ tròn.\n",
    "#   - **plt.show()**: Hiển thị biểu đồ tròn."
   ]
  },
  {
   "cell_type": "code",
   "execution_count": null,
   "metadata": {},
   "outputs": [],
   "source": [
    "Biểu Đồ Tròn (Pie Chart) - Tổng Cột PLUS theo Khu Vực (KV)**\n",
    "    gb = df.groupby(['KV'])['PLUS'].agg(['sum'])\n",
    "    labels = gb.index\n",
    "    data = list(gb['sum'])\n",
    "    colors = sns.color_palette('pastel') # Tạo bảng màu\n",
    "    plt.pie(data, labels=labels, colors=colors, \n",
    "        autopct='%1.1f%%', shadow=True)\n",
    "    plt.show()\n",
    "#   - **gb = df.groupby(['KV'])['PLUS'].agg(['sum'])**:\n",
    "#     - Nhóm dữ liệu theo cột `KV` (Khu vực) và tính tổng của cột `PLUS` cho mỗi khu vực.\n",
    "#     - Kết quả lưu vào DataFrame `gb` với các cột `KV` và `sum`.\n",
    "#   - **labels = gb.index**:\n",
    "#     - Lấy các nhãn từ chỉ mục của DataFrame `gb`, tương ứng với các khu vực.\n",
    "#   - **data = list(gb['sum'])**:\n",
    "#     - Lấy danh sách tổng giá trị `PLUS` tương ứng cho mỗi khu vực.\n",
    "#   - **colors = sns.color_palette('pastel')**:\n",
    "#     - Tạo bảng màu pastel từ seaborn để sử dụng trong biểu đồ tròn.\n",
    "#   - **plt.pie(...)**:\n",
    "#     - Tạo biểu đồ tròn với dữ liệu `data`, nhãn `labels`, bảng màu `colors`.\n",
    "#     - **autopct='%1.1f%%'**: Hiển thị tỷ lệ phần trăm với một chữ số thập phân.\n",
    "#     - **shadow=True**: Thêm bóng đổ cho biểu đồ tròn.\n",
    "#   - **plt.show()**: Hiển thị biểu đồ tròn."
   ]
  },
  {
   "cell_type": "code",
   "execution_count": null,
   "metadata": {},
   "outputs": [],
   "source": [
    "# Biểu Đồ Đường (Lineplot) - Ngày Thi (NT) và Điểm M1**\n",
    "\n",
    "    sns.lineplot(x='NT', y='M1', data=df)\n",
    "    plt.show()\n",
    "#   - **sns.lineplot(x='NT', y='M1', data=df)**:\n",
    "#     - Tạo biểu đồ đường hiển thị mối quan hệ giữa ngày thi `NT` và điểm `M1`.\n",
    "#     - Mỗi điểm trên đường biểu đồ đại diện cho một giá trị `M1` vào một ngày thi cụ thể.\n",
    "#   - **plt.show()**: Hiển thị biểu đồ.\n"
   ]
  },
  {
   "cell_type": "code",
   "execution_count": null,
   "metadata": {},
   "outputs": [],
   "source": [
    "# Biểu Đồ Đường (Lineplot) - Ngày Thi (NT) và Điểm M1 với Estimator là max**\n",
    "\n",
    "    sns.lineplot(x='NT', y='M1', data=df, estimator=np.max)\n",
    "    plt.show()\n",
    "#   - **sns.lineplot(x='NT', y='M1', data=df, estimator=np.max)**:\n",
    "#     - Tạo biểu đồ đường hiển thị giá trị lớn nhất (`np.max`) của điểm `M1` cho mỗi ngày thi `NT`.\n",
    "#     - Tham số `estimator=np.max` thay vì mặc định là `mean`.\n",
    "#   - **plt.show()**: Hiển thị biểu đồ."
   ]
  },
  {
   "cell_type": "code",
   "execution_count": null,
   "metadata": {},
   "outputs": [],
   "source": [
    "# Biểu Đồ Đường (Lineplot) - Ngày Thi (NT), Điểm M1 và Giới Tính (GT) với Estimator là max**\n",
    "    sns.lineplot(x='NT', y='M1', hue='GT', data=df, estimator=np.max)\n",
    "    plt.show()\n",
    "#   - **sns.lineplot(x='NT', y='M1', hue='GT', data=df, estimator=np.max)**:\n",
    "#     - Tạo biểu đồ đường hiển thị giá trị lớn nhất (`np.max`) của điểm `M1` cho mỗi ngày thi `NT`, phân chia theo giới tính `GT`.\n",
    "#     - Mỗi dòng trong biểu đồ đại diện cho một giới tính khác nhau.\n",
    "#   - **plt.show()**: Hiển thị biểu đồ."
   ]
  },
  {
   "cell_type": "code",
   "execution_count": null,
   "metadata": {},
   "outputs": [],
   "source": []
  }
 ],
 "metadata": {
  "language_info": {
   "name": "python"
  }
 },
 "nbformat": 4,
 "nbformat_minor": 2
}

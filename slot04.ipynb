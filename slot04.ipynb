{
 "cells": [
  {
   "cell_type": "code",
   "execution_count": 1,
   "metadata": {},
   "outputs": [
    {
     "data": {
      "text/html": [
       "<div>\n",
       "<style scoped>\n",
       "    .dataframe tbody tr th:only-of-type {\n",
       "        vertical-align: middle;\n",
       "    }\n",
       "\n",
       "    .dataframe tbody tr th {\n",
       "        vertical-align: top;\n",
       "    }\n",
       "\n",
       "    .dataframe thead th {\n",
       "        text-align: right;\n",
       "    }\n",
       "</style>\n",
       "<table border=\"1\" class=\"dataframe\">\n",
       "  <thead>\n",
       "    <tr style=\"text-align: right;\">\n",
       "      <th></th>\n",
       "      <th>MSSV</th>\n",
       "      <th>GT</th>\n",
       "      <th>DT</th>\n",
       "      <th>KV</th>\n",
       "      <th>M1</th>\n",
       "      <th>M2</th>\n",
       "      <th>M3</th>\n",
       "      <th>KT</th>\n",
       "      <th>NT</th>\n",
       "      <th>NGHE</th>\n",
       "    </tr>\n",
       "  </thead>\n",
       "  <tbody>\n",
       "    <tr>\n",
       "      <th>0</th>\n",
       "      <td>SV001</td>\n",
       "      <td>F</td>\n",
       "      <td>NaN</td>\n",
       "      <td>2NT</td>\n",
       "      <td>3.25</td>\n",
       "      <td>3.25</td>\n",
       "      <td>4.50</td>\n",
       "      <td>A1</td>\n",
       "      <td>12/7/2018</td>\n",
       "      <td>No</td>\n",
       "    </tr>\n",
       "    <tr>\n",
       "      <th>1</th>\n",
       "      <td>SV002</td>\n",
       "      <td>M</td>\n",
       "      <td>NaN</td>\n",
       "      <td>1</td>\n",
       "      <td>6.00</td>\n",
       "      <td>4.00</td>\n",
       "      <td>3.50</td>\n",
       "      <td>C</td>\n",
       "      <td>12/7/2018</td>\n",
       "      <td>Yes</td>\n",
       "    </tr>\n",
       "    <tr>\n",
       "      <th>2</th>\n",
       "      <td>SV003</td>\n",
       "      <td>M</td>\n",
       "      <td>NaN</td>\n",
       "      <td>1</td>\n",
       "      <td>5.00</td>\n",
       "      <td>6.75</td>\n",
       "      <td>4.00</td>\n",
       "      <td>C</td>\n",
       "      <td>12/7/2018</td>\n",
       "      <td>No</td>\n",
       "    </tr>\n",
       "    <tr>\n",
       "      <th>3</th>\n",
       "      <td>SV004</td>\n",
       "      <td>M</td>\n",
       "      <td>NaN</td>\n",
       "      <td>1</td>\n",
       "      <td>4.25</td>\n",
       "      <td>4.25</td>\n",
       "      <td>5.25</td>\n",
       "      <td>D1</td>\n",
       "      <td>12/7/2018</td>\n",
       "      <td>No</td>\n",
       "    </tr>\n",
       "    <tr>\n",
       "      <th>4</th>\n",
       "      <td>SV005</td>\n",
       "      <td>M</td>\n",
       "      <td>NaN</td>\n",
       "      <td>2NT</td>\n",
       "      <td>4.25</td>\n",
       "      <td>4.50</td>\n",
       "      <td>5.00</td>\n",
       "      <td>A</td>\n",
       "      <td>12/7/2018</td>\n",
       "      <td>No</td>\n",
       "    </tr>\n",
       "    <tr>\n",
       "      <th>...</th>\n",
       "      <td>...</td>\n",
       "      <td>...</td>\n",
       "      <td>...</td>\n",
       "      <td>...</td>\n",
       "      <td>...</td>\n",
       "      <td>...</td>\n",
       "      <td>...</td>\n",
       "      <td>...</td>\n",
       "      <td>...</td>\n",
       "      <td>...</td>\n",
       "    </tr>\n",
       "    <tr>\n",
       "      <th>95</th>\n",
       "      <td>SV0096</td>\n",
       "      <td>F</td>\n",
       "      <td>NaN</td>\n",
       "      <td>1</td>\n",
       "      <td>5.25</td>\n",
       "      <td>1.50</td>\n",
       "      <td>6.25</td>\n",
       "      <td>C</td>\n",
       "      <td>7/20/2022</td>\n",
       "      <td>Yes</td>\n",
       "    </tr>\n",
       "    <tr>\n",
       "      <th>96</th>\n",
       "      <td>SV0097</td>\n",
       "      <td>F</td>\n",
       "      <td>NaN</td>\n",
       "      <td>1</td>\n",
       "      <td>5.25</td>\n",
       "      <td>3.75</td>\n",
       "      <td>4.75</td>\n",
       "      <td>C</td>\n",
       "      <td>7/20/2022</td>\n",
       "      <td>No</td>\n",
       "    </tr>\n",
       "    <tr>\n",
       "      <th>97</th>\n",
       "      <td>SV0098</td>\n",
       "      <td>M</td>\n",
       "      <td>NaN</td>\n",
       "      <td>2NT</td>\n",
       "      <td>7.00</td>\n",
       "      <td>8.00</td>\n",
       "      <td>4.00</td>\n",
       "      <td>C</td>\n",
       "      <td>7/20/2022</td>\n",
       "      <td>Yes</td>\n",
       "    </tr>\n",
       "    <tr>\n",
       "      <th>98</th>\n",
       "      <td>SV0099</td>\n",
       "      <td>M</td>\n",
       "      <td>NaN</td>\n",
       "      <td>1</td>\n",
       "      <td>5.00</td>\n",
       "      <td>3.50</td>\n",
       "      <td>5.50</td>\n",
       "      <td>C</td>\n",
       "      <td>7/20/2022</td>\n",
       "      <td>No</td>\n",
       "    </tr>\n",
       "    <tr>\n",
       "      <th>99</th>\n",
       "      <td>SV00100</td>\n",
       "      <td>M</td>\n",
       "      <td>NaN</td>\n",
       "      <td>2NT</td>\n",
       "      <td>5.25</td>\n",
       "      <td>2.50</td>\n",
       "      <td>4.25</td>\n",
       "      <td>C</td>\n",
       "      <td>7/20/2022</td>\n",
       "      <td>Yes</td>\n",
       "    </tr>\n",
       "  </tbody>\n",
       "</table>\n",
       "<p>100 rows × 10 columns</p>\n",
       "</div>"
      ],
      "text/plain": [
       "       MSSV GT  DT   KV    M1    M2    M3  KT         NT NGHE\n",
       "0     SV001  F NaN  2NT  3.25  3.25  4.50  A1  12/7/2018   No\n",
       "1     SV002  M NaN    1  6.00  4.00  3.50   C  12/7/2018  Yes\n",
       "2     SV003  M NaN    1  5.00  6.75  4.00   C  12/7/2018   No\n",
       "3     SV004  M NaN    1  4.25  4.25  5.25  D1  12/7/2018   No\n",
       "4     SV005  M NaN  2NT  4.25  4.50  5.00   A  12/7/2018   No\n",
       "..      ... ..  ..  ...   ...   ...   ...  ..        ...  ...\n",
       "95   SV0096  F NaN    1  5.25  1.50  6.25   C  7/20/2022  Yes\n",
       "96   SV0097  F NaN    1  5.25  3.75  4.75   C  7/20/2022   No\n",
       "97   SV0098  M NaN  2NT  7.00  8.00  4.00   C  7/20/2022  Yes\n",
       "98   SV0099  M NaN    1  5.00  3.50  5.50   C  7/20/2022   No\n",
       "99  SV00100  M NaN  2NT  5.25  2.50  4.25   C  7/20/2022  Yes\n",
       "\n",
       "[100 rows x 10 columns]"
      ]
     },
     "execution_count": 1,
     "metadata": {},
     "output_type": "execute_result"
    }
   ],
   "source": [
    "import pandas as pd\n",
    "df = pd.read_csv('dulieuxettuyendaihoc.csv',\n",
    "                 header=0,delimiter=',',encoding='utf-8')\n",
    "\n",
    "df.rename(columns={'NGAYTHI':'NT',\n",
    "                   'DINHHUONGNGHENGHIEP':'NGHE'}, \n",
    "                   inplace=True)\n",
    "df\n"
   ]
  },
  {
   "cell_type": "markdown",
   "metadata": {},
   "source": [
    "LỌC VÀ MÔ TẢ DỮ LIỆU"
   ]
  },
  {
   "cell_type": "code",
   "execution_count": 3,
   "metadata": {},
   "outputs": [
    {
     "data": {
      "text/plain": [
       "count    14.000000\n",
       "mean      5.660714\n",
       "std       0.812209\n",
       "min       4.750000\n",
       "25%       5.062500\n",
       "50%       5.250000\n",
       "75%       6.375000\n",
       "max       7.000000\n",
       "Name: M1, dtype: float64"
      ]
     },
     "execution_count": 3,
     "metadata": {},
     "output_type": "execute_result"
    }
   ],
   "source": [
    "dfKhoiC = df.loc[df['KT'] == 'C']\n",
    "dfKhoiC['M1']\n",
    "dfKhoiC['M1'].describe()\n",
    "\n",
    "# df.loc[df['KT'] == 'C'] lọc ra các dòng có giá trị của cột KT là 'C' (có thể là khối C).\n",
    "# Hàm describe() cung cấp các thông số thống kê như số lượng, giá trị trung bình, độ lệch chuẩn cho cột M1.\n"
   ]
  },
  {
   "cell_type": "markdown",
   "metadata": {},
   "source": [
    " KIỂM ĐỊNH t-test MỘT MẪU:"
   ]
  },
  {
   "cell_type": "code",
   "execution_count": 4,
   "metadata": {},
   "outputs": [
    {
     "data": {
      "text/plain": [
       "TtestResult(statistic=np.float64(7.650519779016341), pvalue=np.float64(3.6339826927369557e-06), df=np.int64(13))"
      ]
     },
     "execution_count": 4,
     "metadata": {},
     "output_type": "execute_result"
    }
   ],
   "source": [
    "import scipy.stats as stats\n",
    "stats.ttest_1samp(dfKhoiC['M1'], popmean=4.0)\n",
    "# Hàm ttest_1samp() kiểm định xem trung bình của cột M1 khối C có khác biệt đáng kể\n",
    "#  so với giá trị trung bình giả định là 4.0 hay không."
   ]
  },
  {
   "cell_type": "markdown",
   "metadata": {},
   "source": [
    "Kiểm định t-test hai mẫu độc lập:"
   ]
  },
  {
   "cell_type": "code",
   "execution_count": 5,
   "metadata": {},
   "outputs": [
    {
     "data": {
      "text/plain": [
       "TtestResult(statistic=np.float64(2.5331368604654054), pvalue=np.float64(0.017676922552296807), df=np.float64(26.0))"
      ]
     },
     "execution_count": 5,
     "metadata": {},
     "output_type": "execute_result"
    }
   ],
   "source": [
    "stats.ttest_ind(dfKhoiC['M1'], dfKhoiC['M2'], equal_var=True)\n",
    "# Hàm ttest_ind() so sánh trung bình của hai nhóm độc lập (ở đây là cột M1 và M2 của khối C), \n",
    "# giả định rằng hai nhóm có phương sai bằng nhau.\n"
   ]
  },
  {
   "cell_type": "markdown",
   "metadata": {},
   "source": [
    " Kiểm định Z (Một mẫu và hai mẫu):"
   ]
  },
  {
   "cell_type": "code",
   "execution_count": 6,
   "metadata": {},
   "outputs": [
    {
     "data": {
      "text/plain": [
       "(np.float64(-2.9004757923795), np.float64(0.0037259661678783573))"
      ]
     },
     "execution_count": 6,
     "metadata": {},
     "output_type": "execute_result"
    }
   ],
   "source": [
    "from statsmodels.stats.weightstats import ztest as ztest\n",
    "ztest(df['M1'], value=8.0)\n",
    "ztest(df['M1'], df['M2'], value=0)\n",
    "# Kiểm định Z thứ nhất kiểm tra xem trung bình của cột M1 có khác biệt đáng kể so với 8.0 không.\n",
    "# Kiểm định Z thứ hai so sánh trung bình của M1 và M2, với sự khác biệt giả định bằng 0."
   ]
  },
  {
   "cell_type": "markdown",
   "metadata": {},
   "source": [
    "Hệ số tương quan Pearson:"
   ]
  },
  {
   "cell_type": "code",
   "execution_count": 7,
   "metadata": {},
   "outputs": [
    {
     "name": "stderr",
     "output_type": "stream",
     "text": [
      "C:\\Users\\Admin\\AppData\\Local\\Temp\\ipykernel_21156\\3495311678.py:1: DeprecationWarning: Please import `pearsonr` from the `scipy.stats` namespace; the `scipy.stats.stats` namespace is deprecated and will be removed in SciPy 2.0.0.\n",
      "  from scipy.stats.stats import pearsonr\n"
     ]
    },
    {
     "data": {
      "text/plain": [
       "PearsonRResult(statistic=np.float64(0.03515405725785023), pvalue=np.float64(0.7284198928723625))"
      ]
     },
     "execution_count": 7,
     "metadata": {},
     "output_type": "execute_result"
    }
   ],
   "source": [
    "from scipy.stats.stats import pearsonr\n",
    "pearsonr(df['M1'], df['M2'])\n",
    "# Hàm pearsonr() tính toán hệ số tương quan Pearson và giá trị p để kiểm tra\n",
    "# mối quan hệ tuyến tính giữa hai biến M1 và M2.\n",
    "# Giá trị p-value, cho thấy mối tương quan này có ý nghĩa thống kê (vì p-value < 0.05).\n",
    "# Nếu p-value > 0.05, bạn có thể coi rằng không có bằng chứng thuyết phục về mối liên hệ tuyến tính giữa hai biến.\n"
   ]
  },
  {
   "cell_type": "markdown",
   "metadata": {},
   "source": [
    "Kiểm định Fisher's Exact:\n"
   ]
  },
  {
   "cell_type": "code",
   "execution_count": 8,
   "metadata": {},
   "outputs": [
    {
     "name": "stdout",
     "output_type": "stream",
     "text": [
      "odd ratio is : 0.575\n",
      "p_value is : 0.22763927303454412\n"
     ]
    }
   ],
   "source": [
    "crosdata = pd.crosstab(df['GT'], [df['NGHE']], rownames=['GT'], colnames=['NGHE'])\n",
    "odd_ratio, p_value = stats.fisher_exact(crosdata)\n",
    "print('odd ratio is : ' + str(odd_ratio))\n",
    "print('p_value is : ' + str(p_value))\n",
    "# 1-pd.crosstab() tạo ra bảng chéo giữa cột GT (giới tính) và NGHE (định hướng nghề nghiệp).\n",
    "# 2-Hàm fisher_exact() thực hiện kiểm định Fisher, dùng cho các bảng chéo nhỏ để kiểm tra xem\n",
    "# hai biến có độc lập với nhau không. Trả về tỷ lệ odds và giá trị p.\n",
    "#Odd ratio: Tỷ số odds (tỷ số chênh), đo lường mức độ liên quan giữa hai biến.\n",
    "# Odd ratio > 1: Cho thấy có một mối liên hệ tích cực giữa hai biến (một biến tăng thì biến kia cũng tăng).\n",
    "# Odd ratio < 1: Cho thấy có một mối liên hệ tiêu cực (khi một biến tăng, biến kia có xu hướng giảm).\n",
    "# Odd ratio = 1: Không có mối liên hệ.\n",
    "# P-value: Giá trị p giúp kiểm định xem mối quan hệ này có ý nghĩa thống kê hay không.\n",
    "# Nếu p-value < 0.05, bạn có thể bác bỏ giả thuyết không (null hypothesis), nghĩa là có mối quan hệ giữa hai biến.\n",
    "# Nếu p-value ≥ 0.05, không có bằng chứng thống kê đủ mạnh để khẳng định mối liên hệ giữa hai biến."
   ]
  },
  {
   "cell_type": "markdown",
   "metadata": {},
   "source": [
    " Kiểm định Chi-Square:\n"
   ]
  },
  {
   "cell_type": "code",
   "execution_count": 11,
   "metadata": {},
   "outputs": [
    {
     "data": {
      "image/png": "[encoded data removed]",
      "text/plain": [
       "<Figure size 640x480 with 2 Axes>"
      ]
     },
     "metadata": {},
     "output_type": "display_data"
    },
    {
     "name": "stdout",
     "output_type": "stream",
     "text": [
      "Dependent (reject H0)\n"
     ]
    }
   ],
   "source": [
    "from scipy.stats import chi2_contingency\n",
    "import matplotlib.pyplot as plt\n",
    "crosdata = pd.crosstab(df['KV'], [df['KT']], rownames=['KV'], colnames=['KT'])\n",
    "plt.pcolor(crosdata, cmap='RdBu')\n",
    "plt.colorbar()\n",
    "plt.show()\n",
    "stat, p, dof, expected = chi2_contingency(crosdata)\n",
    "alpha = 0.05\n",
    "if p <= alpha:\n",
    "    print('Dependent (reject H0)')\n",
    "else:\n",
    "    print('Independent (H0 holds true)')\n",
    "\n",
    "# Tạo bảng chéo giữa KV (khu vực) và KT (khối thi) và biểu diễn nó bằng heatmap (bản đồ nhiệt).\n",
    "# Hàm chi2_contingency() thực hiện kiểm định Chi-Square để xem hai biến này có độc lập hay không.\n",
    "#  Nếu giá trị p <= 0.05, ta bác bỏ giả thuyết H0 và kết luận rằng hai biến phụ thuộc."
   ]
  },
  {
   "cell_type": "markdown",
   "metadata": {},
   "source": [
    "Phân tích phương sai (ANOVA):"
   ]
  },
  {
   "cell_type": "code",
   "execution_count": 13,
   "metadata": {},
   "outputs": [
    {
     "name": "stdout",
     "output_type": "stream",
     "text": [
      "            df      sum_sq   mean_sq         F    PR(>F)\n",
      "GT         1.0    1.203141  1.203141  0.598960  0.440917\n",
      "KV         2.0    3.493206  1.746603  0.869512  0.422500\n",
      "GT:KV      2.0    7.349290  3.674645  1.829350  0.166186\n",
      "Residual  94.0  188.819363  2.008717       NaN       NaN\n"
     ]
    }
   ],
   "source": [
    "import statsmodels.api as sm\n",
    "from statsmodels.formula.api import ols\n",
    "model = ols('M1 ~ GT', data=df).fit()\n",
    "aov_table = sm.stats.anova_lm(model, typ=1)\n",
    "model = ols('M1 ~ GT + KV + GT:KV', data=df).fit()\n",
    "result = sm.stats.anova_lm(model, type=2)\n",
    "print(result)\n",
    "\n",
    "# 1- Hàm ols() xây dựng mô hình để kiểm tra ảnh hưởng của biến GT (giới tính)\n",
    "# lên biến M1 và thực hiện phân tích phương sai loại I (Type I ANOVA).\n",
    "# 2- Mô hình thứ hai kiểm tra ảnh hưởng kết hợp của GT, KV (khu vực), và tương tác giữa chúng (GT:KV)\n",
    "# lên M1 thông qua phân tích phương sai loại II (Type II ANOVA).\n",
    "#Kết quả của ANOVA\n",
    "# Bảng kết quả ANOVA sẽ có các cột chính sau:\n",
    "# sum_sq: Tổng bình phương của các yếu tố.\n",
    "# df: Số bậc tự do tương ứng với các yếu tố.\n",
    "# F: Giá trị F-statistic, cho biết tỷ lệ giữa phương sai giữa các nhóm và phương sai trong nhóm.\n",
    "# PR(>F): p-value tương ứng với F-statistic. Nếu giá trị này nhỏ hơn mức alpha (thường là 0.05), bạn có thể bác bỏ giả thuyết không.\n",
    "\n",
    "# Giải thích kết quả\n",
    "# Giá trị F:\n",
    "\n",
    "# Nếu giá trị F lớn cho thấy có sự khác biệt giữa các nhóm trong yếu tố đó.\n",
    "# Nếu giá trị F nhỏ, điều này cho thấy không có sự khác biệt đáng kể.\n",
    "# p-value:\n",
    "\n",
    "# Nếu p-value < 0.05, bác bỏ giả thuyết không và kết luận rằng có sự khác biệt đáng kể giữa các nhóm.\n",
    "# Nếu p-value ≥ 0.05, không bác bỏ giả thuyết không, tức là không có đủ bằng chứng để cho thấy sự khác biệt."
   ]
  },
  {
   "cell_type": "markdown",
   "metadata": {},
   "source": [
    " Hồi quy tuyến tính đơn giản và hồi quy tuyến tính bội:"
   ]
  },
  {
   "cell_type": "code",
   "execution_count": 14,
   "metadata": {},
   "outputs": [
    {
     "name": "stdout",
     "output_type": "stream",
     "text": [
      "                            OLS Regression Results                            \n",
      "==============================================================================\n",
      "Dep. Variable:                      y   R-squared:                       0.000\n",
      "Model:                            OLS   Adj. R-squared:                 -0.010\n",
      "Method:                 Least Squares   F-statistic:                   0.03439\n",
      "Date:                Fri, 04 Oct 2024   Prob (F-statistic):              0.853\n",
      "Time:                        14:07:45   Log-Likelihood:                -145.41\n",
      "No. Observations:                 100   AIC:                             294.8\n",
      "Df Residuals:                      98   BIC:                             300.0\n",
      "Df Model:                           1                                         \n",
      "Covariance Type:            nonrobust                                         \n",
      "==============================================================================\n",
      "                 coef    std err          t      P>|t|      [0.025      0.975]\n",
      "------------------------------------------------------------------------------\n",
      "const          4.8238      0.295     16.338      0.000       4.238       5.410\n",
      "x1             0.0137      0.074      0.185      0.853      -0.133       0.160\n",
      "==============================================================================\n",
      "Omnibus:                        6.663   Durbin-Watson:                   1.749\n",
      "Prob(Omnibus):                  0.036   Jarque-Bera (JB):                6.173\n",
      "Skew:                           0.586   Prob(JB):                       0.0457\n",
      "Kurtosis:                       3.327   Cond. No.                         11.9\n",
      "==============================================================================\n",
      "\n",
      "Notes:\n",
      "[1] Standard Errors assume that the covariance matrix of the errors is correctly specified.\n"
     ]
    }
   ],
   "source": [
    "import statsmodels.api as sm\n",
    "X_with_constant = sm.add_constant(df[[\"M1\"]].values)\n",
    "y = df[['M3']].values\n",
    "result = sm.OLS(y, X_with_constant).fit()\n",
    "print(result.summary())\n",
    "# Mô hình hồi quy tuyến tính đơn giản kiểm tra khả năng dự đoán M3 dựa trên M1.\n",
    "# Mô hình hồi quy tuyến tính bội kiểm tra khả năng dự đoán M3 dựa trên cả M1 và M2.\n",
    "# Hàm add_constant() thêm hằng số để tạo hệ số chặn (intercept)."
   ]
  },
  {
   "cell_type": "markdown",
   "metadata": {},
   "source": [
    "Hồi quy tuyến tính không có hệ số chặn:"
   ]
  },
  {
   "cell_type": "code",
   "execution_count": 16,
   "metadata": {},
   "outputs": [
    {
     "name": "stdout",
     "output_type": "stream",
     "text": [
      "                                 OLS Regression Results                                \n",
      "=======================================================================================\n",
      "Dep. Variable:                      y   R-squared (uncentered):                   0.911\n",
      "Model:                            OLS   Adj. R-squared (uncentered):              0.909\n",
      "Method:                 Least Squares   F-statistic:                              500.8\n",
      "Date:                Fri, 04 Oct 2024   Prob (F-statistic):                    3.54e-52\n",
      "Time:                        14:09:02   Log-Likelihood:                         -181.63\n",
      "No. Observations:                 100   AIC:                                      367.3\n",
      "Df Residuals:                      98   BIC:                                      372.5\n",
      "Df Model:                           2                                                  \n",
      "Covariance Type:            nonrobust                                                  \n",
      "==============================================================================\n",
      "                 coef    std err          t      P>|t|      [0.025      0.975]\n",
      "------------------------------------------------------------------------------\n",
      "x1             0.4062      0.091      4.466      0.000       0.226       0.587\n",
      "x2             0.7367      0.083      8.879      0.000       0.572       0.901\n",
      "==============================================================================\n",
      "Omnibus:                        3.155   Durbin-Watson:                   1.975\n",
      "Prob(Omnibus):                  0.206   Jarque-Bera (JB):                2.527\n",
      "Skew:                          -0.358   Prob(JB):                        0.283\n",
      "Kurtosis:                       3.306   Cond. No.                         4.65\n",
      "==============================================================================\n",
      "\n",
      "Notes:\n",
      "[1] R² is computed without centering (uncentered) since the model does not contain a constant.\n",
      "[2] Standard Errors assume that the covariance matrix of the errors is correctly specified.\n"
     ]
    }
   ],
   "source": [
    "X = df[[\"M1\", \"M2\"]].values\n",
    "y = df[['M3']].values\n",
    "result = sm.OLS(y, X).fit()\n",
    "print(result.summary())\n",
    "# Ở đây, hồi quy tuyến tính được thực hiện mà không có hằng số để dự đoán M3 dựa trên M1 và M2.\n"
   ]
  },
  {
   "cell_type": "code",
   "execution_count": 18,
   "metadata": {},
   "outputs": [],
   "source": [
    "# Phần 1: Thông tin chung\n",
    "# -Dep.Variable (y): Biến phụ thuộc trong mô hình hồi quy, tức là biến cần được dự đoán.\n",
    "# -Model (OLS): Mô hình hồi quy tuyến tính (Ordinary Least Squares - OLS).\n",
    "# -Method (Least Squares): Phương pháp ước lượng sử dụng phương pháp bình phương bé nhất.\n",
    "# -No.Observations (100): Số lượng quan sát trong dữ liệu (ở đây là 100 quan sát).\n",
    "# -Df.Residuals (98): Bậc tự do của phần dư (số lượng quan sát trừ đi số biến độc lập - 100 - 2 = 98).\n",
    "# -Df.Model (2): Số lượng biến độc lập trong mô hình (ở đây là 2 biến x1 và x2).\n",
    "# -Covariance Type (nonrobust): Loại ma trận hiệp phương sai (ở đây không phải là ma trận điều chỉnh để xử lý heteroscedasticity).\n",
    "\n",
    "# Phần 2: Kết quả của các biến độc lập\n",
    "# coef (hệ số hồi quy): Hệ số hồi quy của các biến:\n",
    "\n",
    "# x1: Hệ số hồi quy là 0.4062. Điều này có nghĩa là khi biến x1 tăng lên 1 đơn vị, giá trị dự đoán của biến phụ thuộc y sẽ tăng thêm 0.4062 đơn vị.\n",
    "# x2: Hệ số hồi quy là 0.7367, nghĩa là khi biến x2 tăng lên 1 đơn vị, giá trị y dự đoán sẽ tăng thêm 0.7367 đơn vị.\n",
    "# std err (standard error): Sai số chuẩn của các hệ số hồi quy. Đây là thước đo độ chính xác của các hệ số hồi quy. Càng nhỏ càng tốt.\n",
    "\n",
    "# x1: Sai số chuẩn là 0.091.\n",
    "# x2: Sai số chuẩn là 0.083.\n",
    "# t (t-statistic): Giá trị thống kê t dùng để kiểm định ý nghĩa của hệ số hồi quy. Giá trị t lớn cho thấy hệ số đó có ý nghĩa thống kê.\n",
    "\n",
    "# x1: t-statistic là 4.466.\n",
    "# x2: t-statistic là 8.879.\n",
    "# P>|t|: P-value là xác suất mà hệ số hồi quy có thể bằng 0. Nếu p-value nhỏ hơn 0.05 (ở mức ý nghĩa 5%), thì hệ số đó có ý nghĩa thống kê.\n",
    "\n",
    "# x1: P-value là 0.000, có ý nghĩa thống kê.\n",
    "# x2: P-value là 0.000, cũng có ý nghĩa thống kê.\n",
    "# [0.025 0.975] (confidence interval): Khoảng tin cậy 95% cho hệ số hồi quy. Hệ số thực tế nằm trong khoảng này với xác suất 95%.\n",
    "\n",
    "# x1: Khoảng tin cậy từ 0.226 đến 0.587.\n",
    "# x2: Khoảng tin cậy từ 0.572 đến 0.901.\n",
    "\n",
    "# Phần 3: Các chỉ số của mô hình\n",
    "# R-squared (0.911): Hệ số xác định, cho biết mô hình giải thích được bao nhiêu phần trăm phương sai của biến phụ thuộc. Ở đây là 91.1%, tức là mô hình giải thích được 91.1% biến thiên của y.\n",
    "\n",
    "# Adj. R-squared (0.909): Hệ số R-squared điều chỉnh, điều chỉnh cho số biến trong mô hình. Giá trị này thường nhỏ hơn R-squared.\n",
    "\n",
    "# F-statistic (500.8): Giá trị F-statistic cho kiểm định tổng thể của mô hình, dùng để xem xét liệu các biến độc lập có ảnh hưởng đáng kể đến biến phụ thuộc không.\n",
    "\n",
    "# Prob (F-statistic) (3.54e-52): P-value của kiểm định F-statistic. P-value rất nhỏ, cho thấy mô hình có ý nghĩa tổng thể.\n",
    "\n",
    "# Log-Likelihood (-181.63): Giá trị của hàm log-likelihood, một thước đo về chất lượng của mô hình; càng lớn càng tốt.\n",
    "\n",
    "# AIC (367.3) và BIC (372.5): Các chỉ số chọn mô hình (Akaike Information Criterion và Bayesian Information Criterion). Giá trị càng nhỏ càng tốt khi so sánh các mô hình khác nhau.\n",
    "\n",
    "# Phần 4: Thống kê chẩn đoán\n",
    "# Omnibus (3.155) và Prob(Omnibus) (0.206): Kiểm định Omnibus dùng để kiểm tra tính chuẩn của phân phối phần dư. P-value > 0.05 cho thấy phần dư có phân phối chuẩn.\n",
    "\n",
    "# Durbin-Watson (1.975): Chỉ số này kiểm tra hiện tượng tự tương quan của phần dư. Giá trị lý tưởng khoảng 2, nếu quá gần 0 hoặc 4, thì phần dư có thể bị tự tương quan.\n",
    "\n",
    "# Jarque-Bera (2.527) và Prob(JB) (0.283): Kiểm định Jarque-Bera để kiểm tra xem phần dư có phân phối chuẩn không. P-value > 0.05 cho thấy phần dư có phân phối chuẩn.\n",
    "\n",
    "# Skew (-0.358): Thống kê về độ lệch của phân phối phần dư. Ở đây phần dư có độ lệch hơi nhỏ (âm).\n",
    "\n",
    "# Kurtosis (3.306): Thống kê độ nhọn của phân phối phần dư. Giá trị gần 3 cho thấy phân phối phần dư gần với phân phối chuẩn.\n",
    "\n",
    "# Cond. No. (4.65): Số điều kiện của ma trận X. Giá trị lớn có thể chỉ ra hiện tượng đa cộng tuyến. Ở đây giá trị khá nhỏ, nên không có vấn đề đa cộng tuyến."
   ]
  }
 ],
 "metadata": {
  "kernelspec": {
   "display_name": "Python 3",
   "language": "python",
   "name": "python3"
  },
  "language_info": {
   "codemirror_mode": {
    "name": "ipython",
    "version": 3
   },
   "file_extension": ".py",
   "mimetype": "text/x-python",
   "name": "python",
   "nbconvert_exporter": "python",
   "pygments_lexer": "ipython3",
   "version": "3.12.7"
  }
 },
 "nbformat": 4,
 "nbformat_minor": 2
}
